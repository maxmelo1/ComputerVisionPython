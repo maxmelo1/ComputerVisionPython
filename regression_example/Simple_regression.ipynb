{
  "cells": [
    {
      "cell_type": "markdown",
      "source": [
        "# Simple regression example with Pytorch\n",
        "\n",
        "## Extracted from\n",
        "\n",
        "- [\n",
        "Machine Learning Mastery: Building a Regression Model in PyTorch\n",
        "](https://machinelearningmastery.com/building-a-regression-model-in-pytorch/)\n",
        "\n",
        "## Dataset\n",
        "\n",
        "Sklearn california house prices.\n",
        "\n",
        "## Model\n",
        "\n",
        "A simple MLP model designed with Pytorch."
      ],
      "metadata": {
        "id": "cGvKxhaSZEIO"
      }
    },
    {
      "cell_type": "markdown",
      "source": [
        "## Imports"
      ],
      "metadata": {
        "id": "wdHJGEPMeZiK"
      }
    },
    {
      "cell_type": "code",
      "source": [
        "import copy\n",
        "\n",
        "import matplotlib.pyplot as plt\n",
        "import numpy as np\n",
        "import pandas as pd\n",
        "import torch\n",
        "import torch.nn as nn\n",
        "import torch.optim as optim\n",
        "import tqdm\n",
        "from sklearn.model_selection import train_test_split\n",
        "from sklearn.datasets import fetch_california_housing"
      ],
      "metadata": {
        "id": "EIMfTRQ-eYFC"
      },
      "execution_count": 1,
      "outputs": []
    },
    {
      "cell_type": "markdown",
      "source": [
        "## Data preparation"
      ],
      "metadata": {
        "id": "OMS8N8XfedJT"
      }
    },
    {
      "cell_type": "code",
      "source": [
        "# Read data\n",
        "data = fetch_california_housing()\n",
        "X, y = data.data, data.target\n",
        "\n",
        "print(X)\n",
        "\n",
        "# train-test split for model evaluation\n",
        "X_train, X_test, y_train, y_test = train_test_split(X, y, train_size=0.7, shuffle=True)\n",
        "\n",
        "# Convert to 2D PyTorch tensors\n",
        "X_train = torch.tensor(X_train, dtype=torch.float32)\n",
        "y_train = torch.tensor(y_train, dtype=torch.float32).reshape(-1, 1)\n",
        "X_test = torch.tensor(X_test, dtype=torch.float32)\n",
        "y_test = torch.tensor(y_test, dtype=torch.float32).reshape(-1, 1)"
      ],
      "metadata": {
        "id": "0TrB3YL3eY8G",
        "colab": {
          "base_uri": "https://localhost:8080/"
        },
        "outputId": "e4c4e464-68e2-469b-dac3-ae9216f43063"
      },
      "execution_count": 2,
      "outputs": [
        {
          "output_type": "stream",
          "name": "stdout",
          "text": [
            "[[   8.3252       41.            6.98412698 ...    2.55555556\n",
            "    37.88       -122.23      ]\n",
            " [   8.3014       21.            6.23813708 ...    2.10984183\n",
            "    37.86       -122.22      ]\n",
            " [   7.2574       52.            8.28813559 ...    2.80225989\n",
            "    37.85       -122.24      ]\n",
            " ...\n",
            " [   1.7          17.            5.20554273 ...    2.3256351\n",
            "    39.43       -121.22      ]\n",
            " [   1.8672       18.            5.32951289 ...    2.12320917\n",
            "    39.43       -121.32      ]\n",
            " [   2.3886       16.            5.25471698 ...    2.61698113\n",
            "    39.37       -121.24      ]]\n"
          ]
        }
      ]
    },
    {
      "cell_type": "markdown",
      "source": [
        "## Model"
      ],
      "metadata": {
        "id": "y7sSHrZsejBd"
      }
    },
    {
      "cell_type": "code",
      "source": [
        "# Define the model\n",
        "model = nn.Sequential(\n",
        "    nn.Linear(8, 24),\n",
        "    nn.ReLU(),\n",
        "    nn.Linear(24, 12),\n",
        "    nn.ReLU(),\n",
        "    nn.Linear(12, 6),\n",
        "    nn.ReLU(),\n",
        "    nn.Linear(6, 1)\n",
        ")"
      ],
      "metadata": {
        "id": "hEVVsuWUelfK"
      },
      "execution_count": 3,
      "outputs": []
    },
    {
      "cell_type": "markdown",
      "source": [
        "## Train and evaluation"
      ],
      "metadata": {
        "id": "GU-58hU0eoPH"
      }
    },
    {
      "cell_type": "code",
      "execution_count": 4,
      "metadata": {
        "colab": {
          "base_uri": "https://localhost:8080/",
          "height": 1000
        },
        "id": "Yi0alACBKWmO",
        "outputId": "ea6717f7-dcc4-49a9-dbd5-3a8b58a8442c"
      },
      "outputs": [
        {
          "output_type": "stream",
          "name": "stderr",
          "text": [
            "Epoch 0: 100%|██████████| 1445/1445 [00:12<00:00, 117.16batch/s, mse=1.09]\n",
            "Epoch 1: 100%|██████████| 1445/1445 [00:12<00:00, 116.65batch/s, mse=1.09]\n",
            "Epoch 2: 100%|██████████| 1445/1445 [00:14<00:00, 99.30batch/s, mse=1.1]\n",
            "Epoch 3: 100%|██████████| 1445/1445 [00:24<00:00, 60.17batch/s, mse=1.11]\n",
            "Epoch 4: 100%|██████████| 1445/1445 [00:15<00:00, 96.07batch/s, mse=1.07] \n",
            "Epoch 5: 100%|██████████| 1445/1445 [00:12<00:00, 116.87batch/s, mse=1.02]\n",
            "Epoch 6: 100%|██████████| 1445/1445 [00:11<00:00, 125.13batch/s, mse=1.04]\n",
            "Epoch 7: 100%|██████████| 1445/1445 [00:11<00:00, 124.65batch/s, mse=1.04]\n",
            "Epoch 8: 100%|██████████| 1445/1445 [00:12<00:00, 115.85batch/s, mse=1.03]\n",
            "Epoch 9: 100%|██████████| 1445/1445 [00:12<00:00, 115.00batch/s, mse=1.03]\n",
            "Epoch 10: 100%|██████████| 1445/1445 [00:12<00:00, 114.52batch/s, mse=1.03]\n",
            "Epoch 11: 100%|██████████| 1445/1445 [00:12<00:00, 117.95batch/s, mse=1.03]\n",
            "Epoch 12: 100%|██████████| 1445/1445 [00:12<00:00, 115.46batch/s, mse=1.04]\n",
            "Epoch 13: 100%|██████████| 1445/1445 [00:11<00:00, 122.11batch/s, mse=1.04]\n",
            "Epoch 14: 100%|██████████| 1445/1445 [00:12<00:00, 114.30batch/s, mse=1.05]\n",
            "Epoch 15: 100%|██████████| 1445/1445 [00:11<00:00, 121.17batch/s, mse=1.05]\n",
            "Epoch 16: 100%|██████████| 1445/1445 [00:13<00:00, 106.77batch/s, mse=1.06]\n",
            "Epoch 17: 100%|██████████| 1445/1445 [00:11<00:00, 120.57batch/s, mse=1.06]\n",
            "Epoch 18: 100%|██████████| 1445/1445 [00:11<00:00, 124.47batch/s, mse=1.05]\n",
            "Epoch 19: 100%|██████████| 1445/1445 [00:12<00:00, 117.05batch/s, mse=1.05]\n",
            "Epoch 20: 100%|██████████| 1445/1445 [00:11<00:00, 121.59batch/s, mse=1.04]\n",
            "Epoch 21: 100%|██████████| 1445/1445 [00:11<00:00, 123.29batch/s, mse=1.04]\n",
            "Epoch 22: 100%|██████████| 1445/1445 [00:11<00:00, 124.48batch/s, mse=1.04]\n",
            "Epoch 23: 100%|██████████| 1445/1445 [00:12<00:00, 112.04batch/s, mse=1.05]\n",
            "Epoch 24: 100%|██████████| 1445/1445 [00:12<00:00, 115.61batch/s, mse=1.04]\n",
            "Epoch 25: 100%|██████████| 1445/1445 [00:13<00:00, 111.03batch/s, mse=1.03]\n",
            "Epoch 26: 100%|██████████| 1445/1445 [00:12<00:00, 116.08batch/s, mse=1.02]\n",
            "Epoch 27: 100%|██████████| 1445/1445 [00:12<00:00, 119.25batch/s, mse=1.03]\n",
            "Epoch 28: 100%|██████████| 1445/1445 [00:12<00:00, 117.61batch/s, mse=0.997]\n",
            "Epoch 29: 100%|██████████| 1445/1445 [00:11<00:00, 125.26batch/s, mse=0.975]\n",
            "Epoch 30: 100%|██████████| 1445/1445 [00:11<00:00, 122.49batch/s, mse=0.978]\n",
            "Epoch 31: 100%|██████████| 1445/1445 [00:11<00:00, 121.28batch/s, mse=0.975]\n",
            "Epoch 32: 100%|██████████| 1445/1445 [00:11<00:00, 123.26batch/s, mse=0.967]\n",
            "Epoch 33: 100%|██████████| 1445/1445 [00:11<00:00, 122.68batch/s, mse=0.961]\n",
            "Epoch 34: 100%|██████████| 1445/1445 [00:12<00:00, 112.82batch/s, mse=0.957]\n",
            "Epoch 35: 100%|██████████| 1445/1445 [00:12<00:00, 118.45batch/s, mse=0.95]\n",
            "Epoch 36: 100%|██████████| 1445/1445 [00:12<00:00, 115.81batch/s, mse=0.921]\n",
            "Epoch 37: 100%|██████████| 1445/1445 [00:12<00:00, 119.51batch/s, mse=0.906]\n",
            "Epoch 38: 100%|██████████| 1445/1445 [00:12<00:00, 118.75batch/s, mse=0.907]\n",
            "Epoch 39: 100%|██████████| 1445/1445 [00:13<00:00, 109.89batch/s, mse=0.9]\n",
            "Epoch 40: 100%|██████████| 1445/1445 [00:12<00:00, 119.56batch/s, mse=0.89]\n",
            "Epoch 41: 100%|██████████| 1445/1445 [00:13<00:00, 110.97batch/s, mse=0.882]\n",
            "Epoch 42: 100%|██████████| 1445/1445 [00:11<00:00, 121.43batch/s, mse=0.885]\n",
            "Epoch 43: 100%|██████████| 1445/1445 [00:12<00:00, 114.89batch/s, mse=0.878]\n",
            "Epoch 44: 100%|██████████| 1445/1445 [00:12<00:00, 117.36batch/s, mse=0.869]\n",
            "Epoch 45: 100%|██████████| 1445/1445 [00:13<00:00, 108.93batch/s, mse=0.856]\n",
            "Epoch 46: 100%|██████████| 1445/1445 [00:13<00:00, 107.68batch/s, mse=0.851]\n",
            "Epoch 47: 100%|██████████| 1445/1445 [00:13<00:00, 110.58batch/s, mse=0.843]\n",
            "Epoch 48: 100%|██████████| 1445/1445 [00:12<00:00, 117.18batch/s, mse=0.825]\n",
            "Epoch 49: 100%|██████████| 1445/1445 [00:13<00:00, 107.03batch/s, mse=0.812]\n",
            "Epoch 50: 100%|██████████| 1445/1445 [00:13<00:00, 109.80batch/s, mse=0.805]\n",
            "Epoch 51: 100%|██████████| 1445/1445 [00:12<00:00, 112.28batch/s, mse=0.781]\n",
            "Epoch 52: 100%|██████████| 1445/1445 [00:13<00:00, 107.66batch/s, mse=0.763]\n",
            "Epoch 53: 100%|██████████| 1445/1445 [00:12<00:00, 112.61batch/s, mse=0.752]\n",
            "Epoch 54: 100%|██████████| 1445/1445 [00:13<00:00, 109.75batch/s, mse=0.748]\n",
            "Epoch 55: 100%|██████████| 1445/1445 [00:13<00:00, 110.72batch/s, mse=0.737]\n",
            "Epoch 56: 100%|██████████| 1445/1445 [00:13<00:00, 110.67batch/s, mse=0.742]\n",
            "Epoch 57: 100%|██████████| 1445/1445 [00:12<00:00, 113.51batch/s, mse=0.74]\n",
            "Epoch 58: 100%|██████████| 1445/1445 [00:11<00:00, 122.65batch/s, mse=0.744]\n",
            "Epoch 59: 100%|██████████| 1445/1445 [00:12<00:00, 116.63batch/s, mse=0.73]\n",
            "Epoch 60: 100%|██████████| 1445/1445 [00:12<00:00, 119.90batch/s, mse=0.73]\n",
            "Epoch 61: 100%|██████████| 1445/1445 [00:12<00:00, 115.63batch/s, mse=0.725]\n",
            "Epoch 62: 100%|██████████| 1445/1445 [00:11<00:00, 120.99batch/s, mse=0.722]\n",
            "Epoch 63: 100%|██████████| 1445/1445 [00:12<00:00, 116.60batch/s, mse=0.714]\n",
            "Epoch 64: 100%|██████████| 1445/1445 [00:12<00:00, 114.38batch/s, mse=0.705]\n",
            "Epoch 65: 100%|██████████| 1445/1445 [00:12<00:00, 113.19batch/s, mse=0.698]\n",
            "Epoch 66: 100%|██████████| 1445/1445 [00:11<00:00, 122.87batch/s, mse=0.686]\n",
            "Epoch 67: 100%|██████████| 1445/1445 [00:11<00:00, 121.97batch/s, mse=0.68]\n",
            "Epoch 68: 100%|██████████| 1445/1445 [00:13<00:00, 110.76batch/s, mse=0.671]\n",
            "Epoch 69: 100%|██████████| 1445/1445 [00:12<00:00, 119.96batch/s, mse=0.661]\n",
            "Epoch 70: 100%|██████████| 1445/1445 [00:13<00:00, 108.36batch/s, mse=0.654]\n",
            "Epoch 71: 100%|██████████| 1445/1445 [00:13<00:00, 111.06batch/s, mse=0.646]\n",
            "Epoch 72: 100%|██████████| 1445/1445 [00:12<00:00, 114.05batch/s, mse=0.64]\n",
            "Epoch 73: 100%|██████████| 1445/1445 [00:12<00:00, 112.08batch/s, mse=0.634]\n",
            "Epoch 74: 100%|██████████| 1445/1445 [00:12<00:00, 118.89batch/s, mse=0.626]\n",
            "Epoch 75: 100%|██████████| 1445/1445 [00:12<00:00, 118.10batch/s, mse=0.618]\n",
            "Epoch 76: 100%|██████████| 1445/1445 [00:11<00:00, 120.43batch/s, mse=0.607]\n",
            "Epoch 77: 100%|██████████| 1445/1445 [00:12<00:00, 113.87batch/s, mse=0.599]\n",
            "Epoch 78: 100%|██████████| 1445/1445 [00:13<00:00, 109.62batch/s, mse=0.595]\n",
            "Epoch 79: 100%|██████████| 1445/1445 [00:12<00:00, 116.60batch/s, mse=0.584]\n",
            "Epoch 80: 100%|██████████| 1445/1445 [00:12<00:00, 116.82batch/s, mse=0.58]\n",
            "Epoch 81: 100%|██████████| 1445/1445 [00:12<00:00, 113.28batch/s, mse=0.572]\n",
            "Epoch 82: 100%|██████████| 1445/1445 [00:12<00:00, 118.82batch/s, mse=0.559]\n",
            "Epoch 83: 100%|██████████| 1445/1445 [00:12<00:00, 118.82batch/s, mse=0.557]\n",
            "Epoch 84: 100%|██████████| 1445/1445 [00:11<00:00, 126.13batch/s, mse=0.551]\n",
            "Epoch 85: 100%|██████████| 1445/1445 [00:11<00:00, 121.79batch/s, mse=0.546]\n",
            "Epoch 86: 100%|██████████| 1445/1445 [00:13<00:00, 110.58batch/s, mse=0.532]\n",
            "Epoch 87: 100%|██████████| 1445/1445 [00:12<00:00, 111.77batch/s, mse=0.529]\n",
            "Epoch 88: 100%|██████████| 1445/1445 [00:13<00:00, 106.12batch/s, mse=0.518]\n",
            "Epoch 89: 100%|██████████| 1445/1445 [00:13<00:00, 107.74batch/s, mse=0.518]\n",
            "Epoch 90: 100%|██████████| 1445/1445 [00:12<00:00, 114.06batch/s, mse=0.51]\n",
            "Epoch 91: 100%|██████████| 1445/1445 [00:12<00:00, 115.72batch/s, mse=0.502]\n",
            "Epoch 92: 100%|██████████| 1445/1445 [00:12<00:00, 112.43batch/s, mse=0.496]\n",
            "Epoch 93: 100%|██████████| 1445/1445 [00:12<00:00, 116.27batch/s, mse=0.497]\n",
            "Epoch 94: 100%|██████████| 1445/1445 [00:12<00:00, 119.05batch/s, mse=0.487]\n",
            "Epoch 95: 100%|██████████| 1445/1445 [00:12<00:00, 119.22batch/s, mse=0.485]\n",
            "Epoch 96: 100%|██████████| 1445/1445 [00:12<00:00, 115.55batch/s, mse=0.482]\n",
            "Epoch 97: 100%|██████████| 1445/1445 [00:12<00:00, 117.32batch/s, mse=0.474]\n",
            "Epoch 98: 100%|██████████| 1445/1445 [00:12<00:00, 120.15batch/s, mse=0.472]\n",
            "Epoch 99: 100%|██████████| 1445/1445 [00:12<00:00, 119.98batch/s, mse=0.467]\n"
          ]
        },
        {
          "output_type": "stream",
          "name": "stdout",
          "text": [
            "MSE: 0.51\n",
            "RMSE: 0.71\n"
          ]
        },
        {
          "output_type": "display_data",
          "data": {
            "text/plain": [
              "<Figure size 640x480 with 1 Axes>"
            ],
            "image/png": "[encoded data removed]"
          },
          "metadata": {}
        }
      ],
      "source": [
        "# loss function and optimizer\n",
        "loss_fn = nn.MSELoss()  # mean square error\n",
        "optimizer = optim.Adam(model.parameters(), lr=0.0001)\n",
        "\n",
        "n_epochs = 100   # number of epochs to run\n",
        "batch_size = 10  # size of each batch\n",
        "batch_start = torch.arange(0, len(X_train), batch_size)\n",
        "\n",
        "# Hold the best model\n",
        "best_mse = np.inf   # init to infinity\n",
        "best_weights = None\n",
        "history = []\n",
        "\n",
        "for epoch in range(n_epochs):\n",
        "    model.train()\n",
        "    with tqdm.tqdm(batch_start, unit=\"batch\", mininterval=0) as bar:\n",
        "        bar.set_description(f\"Epoch {epoch}\")\n",
        "        for start in bar:\n",
        "            # take a batch\n",
        "            X_batch = X_train[start:start+batch_size]\n",
        "            y_batch = y_train[start:start+batch_size]\n",
        "            # forward pass\n",
        "            y_pred = model(X_batch)\n",
        "            loss = loss_fn(y_pred, y_batch)\n",
        "            # backward pass\n",
        "            optimizer.zero_grad()\n",
        "            loss.backward()\n",
        "            # update weights\n",
        "            optimizer.step()\n",
        "            # print progress\n",
        "            bar.set_postfix(mse=float(loss))\n",
        "    # evaluate accuracy at end of each epoch\n",
        "    model.eval()\n",
        "    y_pred = model(X_test)\n",
        "    mse = loss_fn(y_pred, y_test)\n",
        "    mse = float(mse)\n",
        "    history.append(mse)\n",
        "    if mse < best_mse:\n",
        "        best_mse = mse\n",
        "        best_weights = copy.deepcopy(model.state_dict())\n",
        "\n",
        "# restore model and return best accuracy\n",
        "model.load_state_dict(best_weights)\n",
        "print(\"MSE: %.2f\" % best_mse)\n",
        "print(\"RMSE: %.2f\" % np.sqrt(best_mse))\n",
        "plt.plot(history)\n",
        "plt.show()"
      ]
    },
    {
      "cell_type": "code",
      "execution_count": null,
      "metadata": {
        "id": "7PmutbLYOWJV"
      },
      "outputs": [],
      "source": []
    },
    {
      "cell_type": "markdown",
      "source": [
        "## Best results\n",
        "\n",
        "- MSE: 0.51\n",
        "- RMSE: 0.71"
      ],
      "metadata": {
        "id": "fMakwKGQevUq"
      }
    },
    {
      "cell_type": "code",
      "source": [],
      "metadata": {
        "id": "CO4EBZ-8mvEz"
      },
      "execution_count": null,
      "outputs": []
    }
  ],
  "metadata": {
    "colab": {
      "provenance": []
    },
    "kernelspec": {
      "display_name": "Python 3",
      "name": "python3"
    },
    "language_info": {
      "name": "python"
    }
  },
  "nbformat": 4,
  "nbformat_minor": 0
}
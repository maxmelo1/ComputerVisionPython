{
  "nbformat": 4,
  "nbformat_minor": 0,
  "metadata": {
    "colab": {
      "provenance": []
    },
    "kernelspec": {
      "name": "python3",
      "display_name": "Python 3"
    },
    "language_info": {
      "name": "python"
    },
    "widgets": {
      "application/vnd.jupyter.widget-state+json": {
        "5b4dba904cb64ac992bd5d8ce0ce25bf": {
          "model_module": "@jupyter-widgets/controls",
          "model_name": "HBoxModel",
          "model_module_version": "1.5.0",
          "state": {
            "_dom_classes": [],
            "_model_module": "@jupyter-widgets/controls",
            "_model_module_version": "1.5.0",
            "_model_name": "HBoxModel",
            "_view_count": null,
            "_view_module": "@jupyter-widgets/controls",
            "_view_module_version": "1.5.0",
            "_view_name": "HBoxView",
            "box_style": "",
            "children": [
              "IPY_MODEL_28f162aaba104bdcbb3cd9bbf281e1fd",
              "IPY_MODEL_d22ce19470ca4c62b5fe62d878bbf40b",
              "IPY_MODEL_8917d669f1ed4f48abdfc5dd0932bfe3"
            ],
            "layout": "IPY_MODEL_d2ec80731dcc48b2b68e4f39aea2ed03"
          }
        },
        "28f162aaba104bdcbb3cd9bbf281e1fd": {
          "model_module": "@jupyter-widgets/controls",
          "model_name": "HTMLModel",
          "model_module_version": "1.5.0",
          "state": {
            "_dom_classes": [],
            "_model_module": "@jupyter-widgets/controls",
            "_model_module_version": "1.5.0",
            "_model_name": "HTMLModel",
            "_view_count": null,
            "_view_module": "@jupyter-widgets/controls",
            "_view_module_version": "1.5.0",
            "_view_name": "HTMLView",
            "description": "",
            "description_tooltip": null,
            "layout": "IPY_MODEL_faf36b9c49ad4d499e4495ca0dc9aef6",
            "placeholder": "​",
            "style": "IPY_MODEL_1c79ceb09e414b4da37dc052ec71304d",
            "value": "100%"
          }
        },
        "d22ce19470ca4c62b5fe62d878bbf40b": {
          "model_module": "@jupyter-widgets/controls",
          "model_name": "FloatProgressModel",
          "model_module_version": "1.5.0",
          "state": {
            "_dom_classes": [],
            "_model_module": "@jupyter-widgets/controls",
            "_model_module_version": "1.5.0",
            "_model_name": "FloatProgressModel",
            "_view_count": null,
            "_view_module": "@jupyter-widgets/controls",
            "_view_module_version": "1.5.0",
            "_view_name": "ProgressView",
            "bar_style": "success",
            "description": "",
            "description_tooltip": null,
            "layout": "IPY_MODEL_5d77fc8f71614170aff57c295b6321e9",
            "max": 95435,
            "min": 0,
            "orientation": "horizontal",
            "style": "IPY_MODEL_e782004b9efc4395aa1f75e08bee0bbf",
            "value": 95435
          }
        },
        "8917d669f1ed4f48abdfc5dd0932bfe3": {
          "model_module": "@jupyter-widgets/controls",
          "model_name": "HTMLModel",
          "model_module_version": "1.5.0",
          "state": {
            "_dom_classes": [],
            "_model_module": "@jupyter-widgets/controls",
            "_model_module_version": "1.5.0",
            "_model_name": "HTMLModel",
            "_view_count": null,
            "_view_module": "@jupyter-widgets/controls",
            "_view_module_version": "1.5.0",
            "_view_name": "HTMLView",
            "description": "",
            "description_tooltip": null,
            "layout": "IPY_MODEL_300d4335d5c542d3a56f384892048c2a",
            "placeholder": "​",
            "style": "IPY_MODEL_2c758fa359f647abbb5fc6f47b40269f",
            "value": " 95435/95435 [00:00&lt;00:00, 242416.78it/s]"
          }
        },
        "d2ec80731dcc48b2b68e4f39aea2ed03": {
          "model_module": "@jupyter-widgets/base",
          "model_name": "LayoutModel",
          "model_module_version": "1.2.0",
          "state": {
            "_model_module": "@jupyter-widgets/base",
            "_model_module_version": "1.2.0",
            "_model_name": "LayoutModel",
            "_view_count": null,
            "_view_module": "@jupyter-widgets/base",
            "_view_module_version": "1.2.0",
            "_view_name": "LayoutView",
            "align_content": null,
            "align_items": null,
            "align_self": null,
            "border": null,
            "bottom": null,
            "display": null,
            "flex": null,
            "flex_flow": null,
            "grid_area": null,
            "grid_auto_columns": null,
            "grid_auto_flow": null,
            "grid_auto_rows": null,
            "grid_column": null,
            "grid_gap": null,
            "grid_row": null,
            "grid_template_areas": null,
            "grid_template_columns": null,
            "grid_template_rows": null,
            "height": null,
            "justify_content": null,
            "justify_items": null,
            "left": null,
            "margin": null,
            "max_height": null,
            "max_width": null,
            "min_height": null,
            "min_width": null,
            "object_fit": null,
            "object_position": null,
            "order": null,
            "overflow": null,
            "overflow_x": null,
            "overflow_y": null,
            "padding": null,
            "right": null,
            "top": null,
            "visibility": null,
            "width": null
          }
        },
        "faf36b9c49ad4d499e4495ca0dc9aef6": {
          "model_module": "@jupyter-widgets/base",
          "model_name": "LayoutModel",
          "model_module_version": "1.2.0",
          "state": {
            "_model_module": "@jupyter-widgets/base",
            "_model_module_version": "1.2.0",
            "_model_name": "LayoutModel",
            "_view_count": null,
            "_view_module": "@jupyter-widgets/base",
            "_view_module_version": "1.2.0",
            "_view_name": "LayoutView",
            "align_content": null,
            "align_items": null,
            "align_self": null,
            "border": null,
            "bottom": null,
            "display": null,
            "flex": null,
            "flex_flow": null,
            "grid_area": null,
            "grid_auto_columns": null,
            "grid_auto_flow": null,
            "grid_auto_rows": null,
            "grid_column": null,
            "grid_gap": null,
            "grid_row": null,
            "grid_template_areas": null,
            "grid_template_columns": null,
            "grid_template_rows": null,
            "height": null,
            "justify_content": null,
            "justify_items": null,
            "left": null,
            "margin": null,
            "max_height": null,
            "max_width": null,
            "min_height": null,
            "min_width": null,
            "object_fit": null,
            "object_position": null,
            "order": null,
            "overflow": null,
            "overflow_x": null,
            "overflow_y": null,
            "padding": null,
            "right": null,
            "top": null,
            "visibility": null,
            "width": null
          }
        },
        "1c79ceb09e414b4da37dc052ec71304d": {
          "model_module": "@jupyter-widgets/controls",
          "model_name": "DescriptionStyleModel",
          "model_module_version": "1.5.0",
          "state": {
            "_model_module": "@jupyter-widgets/controls",
            "_model_module_version": "1.5.0",
            "_model_name": "DescriptionStyleModel",
            "_view_count": null,
            "_view_module": "@jupyter-widgets/base",
            "_view_module_version": "1.2.0",
            "_view_name": "StyleView",
            "description_width": ""
          }
        },
        "5d77fc8f71614170aff57c295b6321e9": {
          "model_module": "@jupyter-widgets/base",
          "model_name": "LayoutModel",
          "model_module_version": "1.2.0",
          "state": {
            "_model_module": "@jupyter-widgets/base",
            "_model_module_version": "1.2.0",
            "_model_name": "LayoutModel",
            "_view_count": null,
            "_view_module": "@jupyter-widgets/base",
            "_view_module_version": "1.2.0",
            "_view_name": "LayoutView",
            "align_content": null,
            "align_items": null,
            "align_self": null,
            "border": null,
            "bottom": null,
            "display": null,
            "flex": null,
            "flex_flow": null,
            "grid_area": null,
            "grid_auto_columns": null,
            "grid_auto_flow": null,
            "grid_auto_rows": null,
            "grid_column": null,
            "grid_gap": null,
            "grid_row": null,
            "grid_template_areas": null,
            "grid_template_columns": null,
            "grid_template_rows": null,
            "height": null,
            "justify_content": null,
            "justify_items": null,
            "left": null,
            "margin": null,
            "max_height": null,
            "max_width": null,
            "min_height": null,
            "min_width": null,
            "object_fit": null,
            "object_position": null,
            "order": null,
            "overflow": null,
            "overflow_x": null,
            "overflow_y": null,
            "padding": null,
            "right": null,
            "top": null,
            "visibility": null,
            "width": null
          }
        },
        "e782004b9efc4395aa1f75e08bee0bbf": {
          "model_module": "@jupyter-widgets/controls",
          "model_name": "ProgressStyleModel",
          "model_module_version": "1.5.0",
          "state": {
            "_model_module": "@jupyter-widgets/controls",
            "_model_module_version": "1.5.0",
            "_model_name": "ProgressStyleModel",
            "_view_count": null,
            "_view_module": "@jupyter-widgets/base",
            "_view_module_version": "1.2.0",
            "_view_name": "StyleView",
            "bar_color": null,
            "description_width": ""
          }
        },
        "300d4335d5c542d3a56f384892048c2a": {
          "model_module": "@jupyter-widgets/base",
          "model_name": "LayoutModel",
          "model_module_version": "1.2.0",
          "state": {
            "_model_module": "@jupyter-widgets/base",
            "_model_module_version": "1.2.0",
            "_model_name": "LayoutModel",
            "_view_count": null,
            "_view_module": "@jupyter-widgets/base",
            "_view_module_version": "1.2.0",
            "_view_name": "LayoutView",
            "align_content": null,
            "align_items": null,
            "align_self": null,
            "border": null,
            "bottom": null,
            "display": null,
            "flex": null,
            "flex_flow": null,
            "grid_area": null,
            "grid_auto_columns": null,
            "grid_auto_flow": null,
            "grid_auto_rows": null,
            "grid_column": null,
            "grid_gap": null,
            "grid_row": null,
            "grid_template_areas": null,
            "grid_template_columns": null,
            "grid_template_rows": null,
            "height": null,
            "justify_content": null,
            "justify_items": null,
            "left": null,
            "margin": null,
            "max_height": null,
            "max_width": null,
            "min_height": null,
            "min_width": null,
            "object_fit": null,
            "object_position": null,
            "order": null,
            "overflow": null,
            "overflow_x": null,
            "overflow_y": null,
            "padding": null,
            "right": null,
            "top": null,
            "visibility": null,
            "width": null
          }
        },
        "2c758fa359f647abbb5fc6f47b40269f": {
          "model_module": "@jupyter-widgets/controls",
          "model_name": "DescriptionStyleModel",
          "model_module_version": "1.5.0",
          "state": {
            "_model_module": "@jupyter-widgets/controls",
            "_model_module_version": "1.5.0",
            "_model_name": "DescriptionStyleModel",
            "_view_count": null,
            "_view_module": "@jupyter-widgets/base",
            "_view_module_version": "1.2.0",
            "_view_name": "StyleView",
            "description_width": ""
          }
        }
      }
    }
  },
  "cells": [
    {
      "cell_type": "markdown",
      "source": [
        "## Material do curso de nivelamento em *Deep Learning* do professor Edson M. Takashi (FACOM - UFMS)"
      ],
      "metadata": {
        "id": "C09hrDuCkMWk"
      }
    },
    {
      "cell_type": "code",
      "execution_count": null,
      "metadata": {
        "id": "JmkPQT9l0iUt"
      },
      "outputs": [],
      "source": [
        "import numpy as np\n",
        "import matplotlib.pyplot as plt\n",
        "import cmath"
      ]
    },
    {
      "cell_type": "code",
      "source": [
        "x = np.arange(100)\n",
        "denominator = 5\n",
        "plt.plot(x, np.sin(x/denominator))"
      ],
      "metadata": {
        "colab": {
          "base_uri": "https://localhost:8080/",
          "height": 282
        },
        "id": "s-WGAXQE5zBw",
        "outputId": "16c09368-a712-486a-a15c-a0cfb1c38ac0"
      },
      "execution_count": null,
      "outputs": [
        {
          "output_type": "execute_result",
          "data": {
            "text/plain": [
              "[<matplotlib.lines.Line2D at 0x7f4c9c061790>]"
            ]
          },
          "metadata": {},
          "execution_count": 10
        },
        {
          "output_type": "display_data",
          "data": {
            "text/plain": [
              "<Figure size 432x288 with 1 Axes>"
            ],
            "image/png": "[encoded data removed]"
          },
          "metadata": {
            "needs_background": "light"
          }
        }
      ]
    },
    {
      "cell_type": "markdown",
      "source": [
        "$$ P(k,2i) = seno(\\frac{k}{n^{2i/d}}) $$\n",
        "$$ P(k,2i+1) = cosseno(\\frac{k}{n^{2i/d}}) $$\n",
        "\n",
        "$k$ é a posição do token na sequencia (tamanho da sequencia), \n",
        "$0 \\leq i < d/2$ e  são as colunas e $d$  é o tamanho do embedding.\n",
        "$n=10000$ pelos autores do \"attention is all you need\".\n",
        "\n",
        "Na primeira coluna o denominador $n^{0} = 1$. Quando i está na última coluna, o denominador se aproxima de $n^{d/d} = n$. Nas colunas intermediárias o denominador cresce com i.\n"
      ],
      "metadata": {
        "id": "wGYXZhmAiDmq"
      }
    },
    {
      "cell_type": "code",
      "source": [
        "def getPositionEncoding_(seq_len, d, n=10000):\n",
        "    P = np.zeros((seq_len, d))\n",
        "    for k in range(seq_len):                # linha\n",
        "        for i in np.arange(int(d/2)):       # coluna\n",
        "            denominator = np.power(n, 2*i/d)\n",
        "            P[k, 2*i]   = denominator\n",
        "            P[k, 2*i+1] = denominator\n",
        "    return P"
      ],
      "metadata": {
        "id": "p8imjipk54CE"
      },
      "execution_count": null,
      "outputs": []
    },
    {
      "cell_type": "code",
      "source": [
        "P = getPositionEncoding_(seq_len=1, d=100, n=10000)"
      ],
      "metadata": {
        "id": "9p1Nqt2g7Gt8"
      },
      "execution_count": null,
      "outputs": []
    },
    {
      "cell_type": "code",
      "source": [
        "P"
      ],
      "metadata": {
        "colab": {
          "base_uri": "https://localhost:8080/"
        },
        "id": "9In028WC7IrL",
        "outputId": "337e49fa-5bad-4998-d548-27d162031b20"
      },
      "execution_count": null,
      "outputs": [
        {
          "output_type": "execute_result",
          "data": {
            "text/plain": [
              "array([[1.00000000e+00, 1.00000000e+00, 1.20226443e+00, 1.20226443e+00,\n",
              "        1.44543977e+00, 1.44543977e+00, 1.73780083e+00, 1.73780083e+00,\n",
              "        2.08929613e+00, 2.08929613e+00, 2.51188643e+00, 2.51188643e+00,\n",
              "        3.01995172e+00, 3.01995172e+00, 3.63078055e+00, 3.63078055e+00,\n",
              "        4.36515832e+00, 4.36515832e+00, 5.24807460e+00, 5.24807460e+00,\n",
              "        6.30957344e+00, 6.30957344e+00, 7.58577575e+00, 7.58577575e+00,\n",
              "        9.12010839e+00, 9.12010839e+00, 1.09647820e+01, 1.09647820e+01,\n",
              "        1.31825674e+01, 1.31825674e+01, 1.58489319e+01, 1.58489319e+01,\n",
              "        1.90546072e+01, 1.90546072e+01, 2.29086765e+01, 2.29086765e+01,\n",
              "        2.75422870e+01, 2.75422870e+01, 3.31131121e+01, 3.31131121e+01,\n",
              "        3.98107171e+01, 3.98107171e+01, 4.78630092e+01, 4.78630092e+01,\n",
              "        5.75439937e+01, 5.75439937e+01, 6.91830971e+01, 6.91830971e+01,\n",
              "        8.31763771e+01, 8.31763771e+01, 1.00000000e+02, 1.00000000e+02,\n",
              "        1.20226443e+02, 1.20226443e+02, 1.44543977e+02, 1.44543977e+02,\n",
              "        1.73780083e+02, 1.73780083e+02, 2.08929613e+02, 2.08929613e+02,\n",
              "        2.51188643e+02, 2.51188643e+02, 3.01995172e+02, 3.01995172e+02,\n",
              "        3.63078055e+02, 3.63078055e+02, 4.36515832e+02, 4.36515832e+02,\n",
              "        5.24807460e+02, 5.24807460e+02, 6.30957344e+02, 6.30957344e+02,\n",
              "        7.58577575e+02, 7.58577575e+02, 9.12010839e+02, 9.12010839e+02,\n",
              "        1.09647820e+03, 1.09647820e+03, 1.31825674e+03, 1.31825674e+03,\n",
              "        1.58489319e+03, 1.58489319e+03, 1.90546072e+03, 1.90546072e+03,\n",
              "        2.29086765e+03, 2.29086765e+03, 2.75422870e+03, 2.75422870e+03,\n",
              "        3.31131121e+03, 3.31131121e+03, 3.98107171e+03, 3.98107171e+03,\n",
              "        4.78630092e+03, 4.78630092e+03, 5.75439937e+03, 5.75439937e+03,\n",
              "        6.91830971e+03, 6.91830971e+03, 8.31763771e+03, 8.31763771e+03]])"
            ]
          },
          "metadata": {},
          "execution_count": 13
        }
      ]
    },
    {
      "cell_type": "code",
      "source": [
        "# codigo obtido de https://machinelearningmastery.com/a-gentle-introduction-to-positional-encoding-in-transformer-models-part-1/\n",
        "\n",
        " \n",
        "def getPositionEncoding(seq_len, d, n=10000):\n",
        "    P = np.zeros((seq_len, d))\n",
        "    for k in range(seq_len):                # linha\n",
        "        for i in np.arange(int(d/2)):       # coluna\n",
        "            denominator = np.power(n, 2*i/d)\n",
        "            P[k, 2*i] = np.sin(k/denominator)\n",
        "            P[k, 2*i+1] = np.cos(k/denominator)\n",
        "    return P\n",
        " \n",
        "P = getPositionEncoding(seq_len=20, d=4, n=10)\n",
        "print(P)"
      ],
      "metadata": {
        "colab": {
          "base_uri": "https://localhost:8080/"
        },
        "id": "6QJzztk_7KjK",
        "outputId": "528869cd-624c-441a-c3c4-8fe6bf5a0ae5"
      },
      "execution_count": null,
      "outputs": [
        {
          "output_type": "stream",
          "name": "stdout",
          "text": [
            "[[ 0.          1.          0.          1.        ]\n",
            " [ 0.84147098  0.54030231  0.31098359  0.95041528]\n",
            " [ 0.90929743 -0.41614684  0.59112712  0.80657841]\n",
            " [ 0.14112001 -0.9899925   0.8126489   0.58275361]\n",
            " [-0.7568025  -0.65364362  0.95358074  0.30113746]\n",
            " [-0.95892427  0.28366219  0.99994652 -0.01034232]\n",
            " [-0.2794155   0.96017029  0.94714816 -0.32079646]\n",
            " [ 0.6569866   0.75390225  0.80042165 -0.59943739]\n",
            " [ 0.98935825 -0.14550003  0.57431777 -0.81863246]\n",
            " [ 0.41211849 -0.91113026  0.29125912 -0.9566442 ]\n",
            " [-0.54402111 -0.83907153 -0.02068353 -0.99978607]\n",
            " [-0.99999021  0.0044257  -0.33057501 -0.94377972]\n",
            " [-0.53657292  0.84385396 -0.60768355 -0.79417926]\n",
            " [ 0.42016704  0.90744678 -0.82452845 -0.56582049]\n",
            " [ 0.99060736  0.13673722 -0.95960533 -0.28134962]\n",
            " [ 0.65028784 -0.75968791 -0.99951869  0.03102253]\n",
            " [-0.28790332 -0.95765948 -0.94031033  0.3403182 ]\n",
            " [-0.96139749 -0.27516334 -0.78785193  0.6158647 ]\n",
            " [-0.75098725  0.66031671 -0.5572627   0.83033625]\n",
            " [ 0.14987721  0.98870462 -0.27141003  0.96246381]]\n"
          ]
        }
      ]
    },
    {
      "cell_type": "markdown",
      "source": [
        "- Cada linha é um token"
      ],
      "metadata": {
        "id": "cs9lCeagiii2"
      }
    },
    {
      "cell_type": "code",
      "source": [
        "P = getPositionEncoding(seq_len=300, d=512, n=10000)"
      ],
      "metadata": {
        "id": "fU0bp7Dv7bR2"
      },
      "execution_count": null,
      "outputs": []
    },
    {
      "cell_type": "markdown",
      "source": [
        "- Observe que na posição 10 o produto escalar é 256. Ao afastar da posição 10 os valores vão diminuindo"
      ],
      "metadata": {
        "id": "IK3DUSZuivIb"
      }
    },
    {
      "cell_type": "code",
      "source": [
        "for i in range(20):\n",
        "    v = P[10]@P[i]\n",
        "    print(i,v)"
      ],
      "metadata": {
        "colab": {
          "base_uri": "https://localhost:8080/"
        },
        "id": "AdK-jHZ57uvk",
        "outputId": "2bdf8cf4-03a8-4a74-9d28-31bc627994cc"
      },
      "execution_count": null,
      "outputs": [
        {
          "output_type": "stream",
          "name": "stdout",
          "text": [
            "0 173.78972492366344\n",
            "1 179.45652122444207\n",
            "2 184.9651413111878\n",
            "3 187.86499728186047\n",
            "4 188.24818295827492\n",
            "5 189.5966676810298\n",
            "6 196.6882311525795\n",
            "7 211.74944342769243\n",
            "8 231.7336203897073\n",
            "9 249.10209782736297\n",
            "10 256.0\n",
            "11 249.10209782736297\n",
            "12 231.7336203897073\n",
            "13 211.74944342769248\n",
            "14 196.68823115257953\n",
            "15 189.59666768102977\n",
            "16 188.24818295827492\n",
            "17 187.8649972818605\n",
            "18 184.96514131118778\n",
            "19 179.45652122444204\n"
          ]
        }
      ]
    },
    {
      "cell_type": "markdown",
      "source": [
        "- Agora observe o que aconte em termos de distância de cosenos entre os vetores"
      ],
      "metadata": {
        "id": "lecSI9BSjVpX"
      }
    },
    {
      "cell_type": "code",
      "source": [
        "for i in range(300):\n",
        "    n1 = P[10]/np.linalg.norm(P[10])\n",
        "    n2 = P[i]/np.linalg.norm(P[i]) \n",
        "    v = n1@n2\n",
        "    print(i,1-v)"
      ],
      "metadata": {
        "colab": {
          "base_uri": "https://localhost:8080/"
        },
        "id": "peTZdAzJ7xrv",
        "outputId": "d4467281-654e-48b5-ef0e-cbe8df07bb71"
      },
      "execution_count": null,
      "outputs": [
        {
          "output_type": "stream",
          "name": "stdout",
          "text": [
            "0 0.3211338870169397\n",
            "1 0.29899796396702316\n",
            "2 0.27747991675317263\n",
            "3 0.26615235436773244\n",
            "4 0.2646555353192386\n",
            "5 0.25938801687097734\n",
            "6 0.2316865970602362\n",
            "7 0.17285373661057646\n",
            "8 0.09479054535270581\n",
            "9 0.026944930361863406\n",
            "10 0.0\n",
            "11 0.026944930361863406\n",
            "12 0.09479054535270581\n",
            "13 0.17285373661057624\n",
            "14 0.2316865970602362\n",
            "15 0.25938801687097746\n",
            "16 0.2646555353192386\n",
            "17 0.26615235436773244\n",
            "18 0.27747991675317274\n",
            "19 0.2989979639670233\n",
            "20 0.32113388701693957\n",
            "21 0.33455804598682226\n",
            "22 0.33809969765578596\n",
            "23 0.338495160198524\n",
            "24 0.34351688272060044\n",
            "25 0.35522031914026087\n",
            "26 0.3690115810350981\n",
            "27 0.37857844726550605\n",
            "28 0.3817125277517971\n",
            "29 0.38185489164300057\n",
            "30 0.3844766233056639\n",
            "31 0.39201631269194814\n",
            "32 0.4020020471518966\n",
            "33 0.40973738483589994\n",
            "34 0.4127517015409109\n",
            "35 0.4128761963483264\n",
            "36 0.41426633938298163\n",
            "37 0.41946368647828747\n",
            "38 0.42720374514043635\n",
            "39 0.4338376318664625\n",
            "40 0.43683458060063585\n",
            "41 0.43704140971158423\n",
            "42 0.4377126328776928\n",
            "43 0.4413883075638071\n",
            "44 0.44760130144000243\n",
            "45 0.45347224682363296\n",
            "46 0.4564944392647\n",
            "47 0.45683637022943546\n",
            "48 0.45706450290920997\n",
            "49 0.4596627555371282\n",
            "50 0.464738279310954\n",
            "51 0.47002584684138893\n",
            "52 0.47309035340665895\n",
            "53 0.47359882708544754\n",
            "54 0.4735533148851937\n",
            "55 0.4753454539508475\n",
            "56 0.4795182636898204\n",
            "57 0.48432526487951566\n",
            "58 0.48743610007854776\n",
            "59 0.4881312783595748\n",
            "60 0.48792671448916414\n",
            "61 0.4890937450909383\n",
            "62 0.49251638742739856\n",
            "63 0.49690398559945703\n",
            "64 0.5000575345941669\n",
            "65 0.5009528540029056\n",
            "66 0.5006727338184145\n",
            "67 0.5013441561442298\n",
            "68 0.5041216666812692\n",
            "69 0.5081263997265677\n",
            "70 0.5113140595773671\n",
            "71 0.5124185509032178\n",
            "72 0.5121275111975852\n",
            "73 0.5124015451154604\n",
            "74 0.5146097289424736\n",
            "75 0.5182525344946229\n",
            "76 0.521462085830912\n",
            "77 0.522781668203376\n",
            "78 0.5225323725946212\n",
            "79 0.522487392702904\n",
            "80 0.5241831924316142\n",
            "81 0.5274744946596055\n",
            "82 0.5306908164618165\n",
            "83 0.5322290760559478\n",
            "84 0.5320664005889624\n",
            "85 0.5317678621707963\n",
            "86 0.5329955860534787\n",
            "87 0.5359382601100426\n",
            "88 0.5391436535101102\n",
            "89 0.540902343468669\n",
            "90 0.5408661294512314\n",
            "91 0.540371049342468\n",
            "92 0.5411662893289004\n",
            "93 0.5437573776342575\n",
            "94 0.5469316103001161\n",
            "95 0.548910987803845\n",
            "96 0.5490380262846251\n",
            "97 0.5483981054271925\n",
            "98 0.5487903013640898\n",
            "99 0.5510219176936552\n",
            "100 0.5541420170914764\n",
            "101 0.5563410725343522\n",
            "102 0.5566667074176055\n",
            "103 0.5559307268719682\n",
            "104 0.555944913999266\n",
            "105 0.5578045446849749\n",
            "106 0.5608443076737966\n",
            "107 0.5632609016755339\n",
            "108 0.5638205110393322\n",
            "109 0.5630364251375586\n",
            "110 0.5626944974662622\n",
            "111 0.5641647745468259\n",
            "112 0.5670938959442012\n",
            "113 0.5697247813222723\n",
            "114 0.5705553472529539\n",
            "115 0.5697724279308309\n",
            "116 0.5690941643631693\n",
            "117 0.5701520894499332\n",
            "118 0.5729347199963788\n",
            "119 0.5757753667294216\n",
            "120 0.5769173414319038\n",
            "121 0.5761887627103757\n",
            "122 0.5751928689522203\n",
            "123 0.5758083845193958\n",
            "124 0.5784007772273851\n",
            "125 0.5814448032700472\n",
            "126 0.5829445040321724\n",
            "127 0.5823309059524822\n",
            "128 0.581036448124424\n",
            "129 0.581170183801716\n",
            "130 0.5835168261472738\n",
            "131 0.5867545916443475\n",
            "132 0.588667376299481\n",
            "133 0.5882422623594503\n",
            "134 0.5866712032791666\n",
            "135 0.5862712132674232\n",
            "136 0.588298393540645\n",
            "137 0.5917137806280515\n",
            "138 0.5941081677038327\n",
            "139 0.5939665486695432\n",
            "140 0.5921488705105619\n",
            "141 0.5911463957232075\n",
            "142 0.5927514300157803\n",
            "143 0.5963146722576522\n",
            "144 0.5992770687040676\n",
            "145 0.5995496159560644\n",
            "146 0.5975341826240452\n",
            "147 0.5958394321208397\n",
            "148 0.5968728302452517\n",
            "149 0.6005248563854231\n",
            "150 0.60416279126977\n",
            "151 0.6050386327234865\n",
            "152 0.6029162811022561\n",
            "153 0.6004182771156054\n",
            "154 0.6006556681460236\n",
            "155 0.6042749324677406\n",
            "156 0.6087116137127904\n",
            "157 0.6104722501958093\n",
            "158 0.6084233058579659\n",
            "159 0.6050059448303748\n",
            "160 0.6041095798017968\n",
            "161 0.6074457256936765\n",
            "162 0.6127863464067378\n",
            "163 0.6158457480801633\n",
            "164 0.6142305859047223\n",
            "165 0.6098350031853531\n",
            "166 0.6073196812142613\n",
            "167 0.6098747783106457\n",
            "168 0.6161008018130333\n",
            "169 0.6210196258183631\n",
            "170 0.6205265282951192\n",
            "171 0.6153192432492044\n",
            "172 0.6105821299805652\n",
            "173 0.6114414378727804\n",
            "174 0.6181595050692923\n",
            "175 0.6255343038962478\n",
            "176 0.6273472832980338\n",
            "177 0.622071173347137\n",
            "178 0.6146355311879055\n",
            "179 0.6123494225331254\n",
            "180 0.6183394131344561\n",
            "181 0.6283629907568679\n",
            "182 0.6341463652145363\n",
            "183 0.6306402222143485\n",
            "184 0.6208523317760269\n",
            "185 0.6137115026639456\n",
            "186 0.6164342666137992\n",
            "187 0.6279114118829092\n",
            "188 0.6391132003195382\n",
            "189 0.6405921989435323\n",
            "190 0.6308427357473549\n",
            "191 0.6181600116652065\n",
            "192 0.6139795541788202\n",
            "193 0.6230666308452018\n",
            "194 0.6389614664951229\n",
            "195 0.6489174694551447\n",
            "196 0.6445293501537099\n",
            "197 0.6291647174090469\n",
            "198 0.6156898916818286\n",
            "199 0.616027262011727\n",
            "200 0.6310828991886108\n",
            "201 0.6495437675262006\n",
            "202 0.6568256057264836\n",
            "203 0.6469960636070703\n",
            "204 0.6278782130052192\n",
            "205 0.6150164321468082\n",
            "206 0.6192799724192248\n",
            "207 0.6380978270979702\n",
            "208 0.6573878507874082\n",
            "209 0.6626105951033294\n",
            "210 0.6501112439167448\n",
            "211 0.6298353277185111\n",
            "212 0.6174948692810025\n",
            "213 0.6225412581153835\n",
            "214 0.6412914564763039\n",
            "215 0.66016912009358\n",
            "216 0.6660823968261453\n",
            "217 0.6558109355980064\n",
            "218 0.6376318712973341\n",
            "219 0.6246849963572818\n",
            "220 0.6255813681683533\n",
            "221 0.639084637554364\n",
            "222 0.6559709393330101\n",
            "223 0.6658199243070693\n",
            "224 0.6635786065350391\n",
            "225 0.6518471020888694\n",
            "226 0.6383454519915098\n",
            "227 0.6310027712052613\n",
            "228 0.6337891634899732\n",
            "229 0.6451399175606453\n",
            "230 0.6591202941410665\n",
            "231 0.6684411234101683\n",
            "232 0.6680636650650817\n",
            "233 0.6579584893585579\n",
            "234 0.6435867848317778\n",
            "235 0.6333646443470861\n",
            "236 0.6339678852329316\n",
            "237 0.6460363696522085\n",
            "238 0.6631943528935674\n",
            "239 0.675532360018162\n",
            "240 0.6756934621747575\n",
            "241 0.6636424770900112\n",
            "242 0.6468212495095943\n",
            "243 0.6354765442755246\n",
            "244 0.6362843821314208\n",
            "245 0.6484973334971094\n",
            "246 0.6649298884418394\n",
            "247 0.6767052744495674\n",
            "248 0.6783730399803503\n",
            "249 0.6702941000406921\n",
            "250 0.6574841371655755\n",
            "251 0.646416110483961\n",
            "252 0.6419881902205093\n",
            "253 0.6459344852377737\n",
            "254 0.6566475602698766\n",
            "255 0.6698703017103926\n",
            "256 0.6800426772632018\n",
            "257 0.6823673440952831\n",
            "258 0.6751981077611511\n",
            "259 0.6615140292101739\n",
            "260 0.648099775299374\n",
            "261 0.6422365552901279\n",
            "262 0.647558703508563\n",
            "263 0.6617166712642181\n",
            "264 0.6775628589161411\n",
            "265 0.6872380725336658\n",
            "266 0.6865342205808418\n",
            "267 0.6768064776490218\n",
            "268 0.6635480055080206\n",
            "269 0.6530173606832341\n",
            "270 0.6492752859876652\n",
            "271 0.65311686814161\n",
            "272 0.6626988556751316\n",
            "273 0.6746876285588674\n",
            "274 0.6851228551426454\n",
            "275 0.6901796002612572\n",
            "276 0.687383599963964\n",
            "277 0.6771368050409522\n",
            "278 0.6634322618394684\n",
            "279 0.6526019325902164\n",
            "280 0.6502187463864191\n",
            "281 0.6578912864496564\n",
            "282 0.6721547223083492\n",
            "283 0.6863682073667206\n",
            "284 0.6944075043336491\n",
            "285 0.693707499696249\n",
            "286 0.6858587677855423\n",
            "287 0.6748893138214389\n",
            "288 0.6649135452069035\n",
            "289 0.6587906391075327\n",
            "290 0.6580781742038783\n",
            "291 0.6633164461392385\n",
            "292 0.6737170898265739\n",
            "293 0.6864855223305301\n",
            "294 0.6969648098203701\n",
            "295 0.7004118775811823\n",
            "296 0.6947097089743999\n",
            "297 0.6820962970965212\n",
            "298 0.6683473007704914\n",
            "299 0.6596766863532385\n"
          ]
        }
      ]
    },
    {
      "cell_type": "code",
      "source": [
        "P = getPositionEncoding(seq_len=100, d=512, n=10000)\n",
        "cax = plt.matshow(P)\n",
        "plt.gcf().colorbar(cax)"
      ],
      "metadata": {
        "colab": {
          "base_uri": "https://localhost:8080/",
          "height": 226
        },
        "id": "DQGECgok8PlA",
        "outputId": "0bd16ba9-86b3-48c2-c7f0-08ab302b71dc"
      },
      "execution_count": null,
      "outputs": [
        {
          "output_type": "execute_result",
          "data": {
            "text/plain": [
              "<matplotlib.colorbar.Colorbar at 0x7f4c92e33cd0>"
            ]
          },
          "metadata": {},
          "execution_count": 20
        },
        {
          "output_type": "display_data",
          "data": {
            "text/plain": [
              "<Figure size 1152x225 with 2 Axes>"
            ],
            "image/png": "[encoded data removed]"
          },
          "metadata": {
            "needs_background": "light"
          }
        }
      ]
    },
    {
      "cell_type": "code",
      "source": [],
      "metadata": {
        "colab": {
          "base_uri": "https://localhost:8080/"
        },
        "id": "8SUTWQWM8YU2",
        "outputId": "a48e8c39-d1fb-4a5b-d5e2-7f915d280f11"
      },
      "execution_count": null,
      "outputs": [
        {
          "output_type": "execute_result",
          "data": {
            "text/plain": [
              "1000"
            ]
          },
          "metadata": {},
          "execution_count": 21
        }
      ]
    },
    {
      "cell_type": "markdown",
      "source": [
        "## BPE"
      ],
      "metadata": {
        "id": "aXnB9HbhEFDS"
      }
    },
    {
      "cell_type": "code",
      "source": [
        "!pip install tokenizers"
      ],
      "metadata": {
        "colab": {
          "base_uri": "https://localhost:8080/"
        },
        "id": "ceghJS3j9bML",
        "outputId": "adeb415f-397e-4cc5-cd71-47e63dc88669"
      },
      "execution_count": null,
      "outputs": [
        {
          "output_type": "stream",
          "name": "stdout",
          "text": [
            "Looking in indexes: https://pypi.org/simple, https://us-python.pkg.dev/colab-wheels/public/simple/\n",
            "Collecting tokenizers\n",
            "  Downloading tokenizers-0.13.2-cp38-cp38-manylinux_2_17_x86_64.manylinux2014_x86_64.whl (7.6 MB)\n",
            "\u001b[2K     \u001b[90m━━━━━━━━━━━━━━━━━━━━━━━━━━━━━━━━━━━━━━━━\u001b[0m \u001b[32m7.6/7.6 MB\u001b[0m \u001b[31m62.2 MB/s\u001b[0m eta \u001b[36m0:00:00\u001b[0m\n",
            "\u001b[?25hInstalling collected packages: tokenizers\n",
            "Successfully installed tokenizers-0.13.2\n"
          ]
        }
      ]
    },
    {
      "cell_type": "code",
      "source": [
        "from tokenizers import Tokenizer\n",
        "from tokenizers.models import BPE\n",
        "\n",
        "tokenizer = Tokenizer(BPE())\n",
        "\n",
        "from tokenizers.pre_tokenizers import Whitespace\n",
        "\n",
        "tokenizer.pre_tokenizer = Whitespace()"
      ],
      "metadata": {
        "id": "Nz-9mjaxEJKC"
      },
      "execution_count": null,
      "outputs": []
    },
    {
      "cell_type": "code",
      "source": [
        "import gensim\n",
        "from gensim.models import Word2Vec \n",
        "from gensim.models import KeyedVectors\n",
        "import pandas as pd\n",
        "from nltk.tokenize import word_tokenize,sent_tokenize\n",
        "import pickle\n",
        "import nltk\n",
        "\n",
        "import os"
      ],
      "metadata": {
        "id": "ADNDhp_kEqTS"
      },
      "execution_count": null,
      "outputs": []
    },
    {
      "cell_type": "code",
      "source": [
        "nltk.download('punkt')"
      ],
      "metadata": {
        "colab": {
          "base_uri": "https://localhost:8080/"
        },
        "id": "xDhwNILXEXxB",
        "outputId": "ef2dd666-f0b0-45e2-ad9a-4f4fb40fa113"
      },
      "execution_count": null,
      "outputs": [
        {
          "output_type": "stream",
          "name": "stderr",
          "text": [
            "[nltk_data] Downloading package punkt to /root/nltk_data...\n",
            "[nltk_data]   Unzipping tokenizers/punkt.zip.\n"
          ]
        },
        {
          "output_type": "execute_result",
          "data": {
            "text/plain": [
              "True"
            ]
          },
          "metadata": {},
          "execution_count": 28
        }
      ]
    },
    {
      "cell_type": "code",
      "source": [
        "!gdown https://drive.google.com/uc?id=1-XXx9A7EMCfP5LLLPLk6HIJbaJLDGvNa"
      ],
      "metadata": {
        "colab": {
          "base_uri": "https://localhost:8080/"
        },
        "id": "MOK5YrXiEXz6",
        "outputId": "a65d25f3-e5b9-46a8-ee9c-28841103237c"
      },
      "execution_count": null,
      "outputs": [
        {
          "output_type": "stream",
          "name": "stdout",
          "text": [
            "Downloading...\n",
            "From: https://drive.google.com/uc?id=1-XXx9A7EMCfP5LLLPLk6HIJbaJLDGvNa\n",
            "To: /content/dataset.p\n",
            "100% 20.7M/20.7M [00:00<00:00, 99.1MB/s]\n"
          ]
        }
      ]
    },
    {
      "cell_type": "code",
      "source": [
        "corpus = pickle.load(open('dataset.p','rb'))\n",
        "scorpus = []\n",
        "for inst in corpus:\n",
        "    scorpus += sent_tokenize(inst['body'])\n",
        "    scorpus += sent_tokenize(inst['title'])\n",
        "\n",
        "fcorpus = []\n",
        "for inst in scorpus:\n",
        "    fcorpus += [word_tokenize(inst)]"
      ],
      "metadata": {
        "id": "BcyWQMliEX2x"
      },
      "execution_count": null,
      "outputs": []
    },
    {
      "cell_type": "code",
      "source": [],
      "metadata": {
        "id": "pz83frnTEeUE"
      },
      "execution_count": null,
      "outputs": []
    },
    {
      "cell_type": "code",
      "source": [],
      "metadata": {
        "id": "ZaY8byfKEeWx"
      },
      "execution_count": null,
      "outputs": []
    },
    {
      "cell_type": "code",
      "source": [],
      "metadata": {
        "id": "e8fmX9aVEeZs"
      },
      "execution_count": null,
      "outputs": []
    },
    {
      "cell_type": "code",
      "source": [
        "from tqdm.auto import tqdm  \n",
        "\n",
        "text_data = []\n",
        "file_count = 0\n",
        "\n",
        "for sample in tqdm(scorpus):\n",
        "    # remove newline characters from each sample as we need to use exclusively as seperators\n",
        "    sample = sample.replace('\\n', '\\s')\n",
        "    text_data.append(sample)\n",
        "    if len(text_data) == 5_000:\n",
        "        # once we hit the 5K mark, save to file\n",
        "        with open(f'./text_{file_count}.txt', 'w', encoding='utf-8') as fp:\n",
        "            fp.write('\\n'.join(text_data))\n",
        "        text_data = []\n",
        "        file_count += 1\n",
        "# after saving in 5K chunks, we may have leftover samples, we save those now too\n",
        "with open(f'./text_{file_count}.txt', 'w', encoding='utf-8') as fp:\n",
        "    fp.write('\\n'.join(text_data))"
      ],
      "metadata": {
        "colab": {
          "base_uri": "https://localhost:8080/",
          "height": 49,
          "referenced_widgets": [
            "5b4dba904cb64ac992bd5d8ce0ce25bf",
            "28f162aaba104bdcbb3cd9bbf281e1fd",
            "d22ce19470ca4c62b5fe62d878bbf40b",
            "8917d669f1ed4f48abdfc5dd0932bfe3",
            "d2ec80731dcc48b2b68e4f39aea2ed03",
            "faf36b9c49ad4d499e4495ca0dc9aef6",
            "1c79ceb09e414b4da37dc052ec71304d",
            "5d77fc8f71614170aff57c295b6321e9",
            "e782004b9efc4395aa1f75e08bee0bbf",
            "300d4335d5c542d3a56f384892048c2a",
            "2c758fa359f647abbb5fc6f47b40269f"
          ]
        },
        "id": "GI8Eip2pELaM",
        "outputId": "c3dcaf89-9fb7-42cc-f73d-d125d4c1c612"
      },
      "execution_count": null,
      "outputs": [
        {
          "output_type": "display_data",
          "data": {
            "text/plain": [
              "  0%|          | 0/95435 [00:00<?, ?it/s]"
            ],
            "application/vnd.jupyter.widget-view+json": {
              "version_major": 2,
              "version_minor": 0,
              "model_id": "5b4dba904cb64ac992bd5d8ce0ce25bf"
            }
          },
          "metadata": {}
        }
      ]
    },
    {
      "cell_type": "code",
      "source": [
        "!pip install ekphrasis"
      ],
      "metadata": {
        "colab": {
          "base_uri": "https://localhost:8080/"
        },
        "id": "4ROZI_H2EPRh",
        "outputId": "36e62a65-684b-4b09-bf48-2bb98578b17d"
      },
      "execution_count": null,
      "outputs": [
        {
          "output_type": "stream",
          "name": "stdout",
          "text": [
            "Looking in indexes: https://pypi.org/simple, https://us-python.pkg.dev/colab-wheels/public/simple/\n",
            "Collecting ekphrasis\n",
            "  Downloading ekphrasis-0.5.4-py3-none-any.whl (83 kB)\n",
            "\u001b[2K     \u001b[90m━━━━━━━━━━━━━━━━━━━━━━━━━━━━━━━━━━━━━━━━\u001b[0m \u001b[32m83.8/83.8 KB\u001b[0m \u001b[31m5.3 MB/s\u001b[0m eta \u001b[36m0:00:00\u001b[0m\n",
            "\u001b[?25hRequirement already satisfied: numpy in /usr/local/lib/python3.8/dist-packages (from ekphrasis) (1.22.4)\n",
            "Requirement already satisfied: termcolor in /usr/local/lib/python3.8/dist-packages (from ekphrasis) (2.2.0)\n",
            "Requirement already satisfied: nltk in /usr/local/lib/python3.8/dist-packages (from ekphrasis) (3.7)\n",
            "Collecting ftfy\n",
            "  Downloading ftfy-6.1.1-py3-none-any.whl (53 kB)\n",
            "\u001b[2K     \u001b[90m━━━━━━━━━━━━━━━━━━━━━━━━━━━━━━━━━━━━━━━━\u001b[0m \u001b[32m53.1/53.1 KB\u001b[0m \u001b[31m3.2 MB/s\u001b[0m eta \u001b[36m0:00:00\u001b[0m\n",
            "\u001b[?25hCollecting colorama\n",
            "  Downloading colorama-0.4.6-py2.py3-none-any.whl (25 kB)\n",
            "Requirement already satisfied: tqdm in /usr/local/lib/python3.8/dist-packages (from ekphrasis) (4.64.1)\n",
            "Collecting ujson\n",
            "  Downloading ujson-5.7.0-cp38-cp38-manylinux_2_17_x86_64.manylinux2014_x86_64.whl (52 kB)\n",
            "\u001b[2K     \u001b[90m━━━━━━━━━━━━━━━━━━━━━━━━━━━━━━━━━━━━━━━━\u001b[0m \u001b[32m52.8/52.8 KB\u001b[0m \u001b[31m7.2 MB/s\u001b[0m eta \u001b[36m0:00:00\u001b[0m\n",
            "\u001b[?25hRequirement already satisfied: matplotlib in /usr/local/lib/python3.8/dist-packages (from ekphrasis) (3.5.3)\n",
            "Requirement already satisfied: wcwidth>=0.2.5 in /usr/local/lib/python3.8/dist-packages (from ftfy->ekphrasis) (0.2.6)\n",
            "Requirement already satisfied: packaging>=20.0 in /usr/local/lib/python3.8/dist-packages (from matplotlib->ekphrasis) (23.0)\n",
            "Requirement already satisfied: kiwisolver>=1.0.1 in /usr/local/lib/python3.8/dist-packages (from matplotlib->ekphrasis) (1.4.4)\n",
            "Requirement already satisfied: python-dateutil>=2.7 in /usr/local/lib/python3.8/dist-packages (from matplotlib->ekphrasis) (2.8.2)\n",
            "Requirement already satisfied: pillow>=6.2.0 in /usr/local/lib/python3.8/dist-packages (from matplotlib->ekphrasis) (8.4.0)\n",
            "Requirement already satisfied: cycler>=0.10 in /usr/local/lib/python3.8/dist-packages (from matplotlib->ekphrasis) (0.11.0)\n",
            "Requirement already satisfied: pyparsing>=2.2.1 in /usr/local/lib/python3.8/dist-packages (from matplotlib->ekphrasis) (3.0.9)\n",
            "Requirement already satisfied: fonttools>=4.22.0 in /usr/local/lib/python3.8/dist-packages (from matplotlib->ekphrasis) (4.38.0)\n",
            "Requirement already satisfied: click in /usr/local/lib/python3.8/dist-packages (from nltk->ekphrasis) (8.1.3)\n",
            "Requirement already satisfied: joblib in /usr/local/lib/python3.8/dist-packages (from nltk->ekphrasis) (1.2.0)\n",
            "Requirement already satisfied: regex>=2021.8.3 in /usr/local/lib/python3.8/dist-packages (from nltk->ekphrasis) (2022.6.2)\n",
            "Requirement already satisfied: six>=1.5 in /usr/local/lib/python3.8/dist-packages (from python-dateutil>=2.7->matplotlib->ekphrasis) (1.15.0)\n",
            "Installing collected packages: ujson, ftfy, colorama, ekphrasis\n",
            "Successfully installed colorama-0.4.6 ekphrasis-0.5.4 ftfy-6.1.1 ujson-5.7.0\n"
          ]
        }
      ]
    },
    {
      "cell_type": "code",
      "source": [
        "from ekphrasis.classes.preprocessor import TextPreProcessor\n",
        "from ekphrasis.classes.tokenizer import SocialTokenizer\n",
        "from ekphrasis.dicts.emoticons import emoticons\n",
        "\n",
        "text_processor = TextPreProcessor(\n",
        "    # terms that will be normalized\n",
        "    normalize=['url', 'email', 'percent', 'money', 'phone', 'user',\n",
        "        'time', 'url', 'date', 'number'],\n",
        "    # terms that will be annotated\n",
        "    annotate={\"hashtag\", \"allcaps\", \"elongated\", \"repeated\",\n",
        "        'emphasis', 'censored'},\n",
        "    fix_html=True,  # fix HTML tokens\n",
        "    \n",
        "    # corpus from which the word statistics are going to be used \n",
        "    # for word segmentation \n",
        "    segmenter=\"twitter\", \n",
        "    \n",
        "    # corpus from which the word statistics are going to be used \n",
        "    # for spell correction\n",
        "    corrector=\"twitter\", \n",
        "    \n",
        "    unpack_hashtags=True,  # perform word segmentation on hashtags\n",
        "    unpack_contractions=True,  # Unpack contractions (can't -> can not)\n",
        "    spell_correct_elong=False,  # spell correction for elongated words\n",
        "    \n",
        "    # select a tokenizer. You can use SocialTokenizer, or pass your own\n",
        "    # the tokenizer, should take as input a string and return a list of tokens\n",
        "    tokenizer=SocialTokenizer(lowercase=True).tokenize,\n",
        "    \n",
        "    # list of dictionaries, for replacing tokens extracted from the text,\n",
        "    # with other expressions. You can pass more than one dictionaries.\n",
        "    dicts=[emoticons]\n",
        ")"
      ],
      "metadata": {
        "colab": {
          "base_uri": "https://localhost:8080/"
        },
        "id": "YRIkfSCeFucW",
        "outputId": "a5f8a626-79a4-485e-81d5-ce03f2ac12a9"
      },
      "execution_count": null,
      "outputs": [
        {
          "output_type": "stream",
          "name": "stderr",
          "text": [
            "/usr/local/lib/python3.8/dist-packages/ekphrasis/classes/tokenizer.py:225: FutureWarning: Possible nested set at position 2190\n",
            "  self.tok = re.compile(r\"({})\".format(\"|\".join(pipeline)))\n"
          ]
        },
        {
          "output_type": "stream",
          "name": "stdout",
          "text": [
            "Word statistics files not found!\n",
            "Downloading... done!\n",
            "Unpacking... done!\n",
            "Reading twitter - 1grams ...\n",
            "generating cache file for faster loading...\n",
            "reading ngrams /root/.ekphrasis/stats/twitter/counts_1grams.txt\n",
            "Reading twitter - 2grams ...\n",
            "generating cache file for faster loading...\n",
            "reading ngrams /root/.ekphrasis/stats/twitter/counts_2grams.txt\n",
            "Reading twitter - 1grams ...\n"
          ]
        },
        {
          "output_type": "stream",
          "name": "stderr",
          "text": [
            "/usr/local/lib/python3.8/dist-packages/ekphrasis/classes/exmanager.py:14: FutureWarning: Possible nested set at position 42\n",
            "  regexes = {k.lower(): re.compile(self.expressions[k]) for k, v in\n"
          ]
        }
      ]
    },
    {
      "cell_type": "code",
      "source": [
        "text_processor.pre_process_doc(\"hj esta 🔥 😁 :)\")"
      ],
      "metadata": {
        "colab": {
          "base_uri": "https://localhost:8080/"
        },
        "id": "XklhIhhlFyAT",
        "outputId": "0324ea09-131f-46de-a28c-6b006f03c7fe"
      },
      "execution_count": null,
      "outputs": [
        {
          "output_type": "execute_result",
          "data": {
            "text/plain": [
              "['hj', 'esta', '🔥', '😁', '<happy>']"
            ]
          },
          "metadata": {},
          "execution_count": 33
        }
      ]
    },
    {
      "cell_type": "code",
      "source": [
        "from pathlib import Path\n",
        "paths = [str(x) for x in Path('./').glob('**/*.txt')]\n",
        "paths"
      ],
      "metadata": {
        "colab": {
          "base_uri": "https://localhost:8080/"
        },
        "id": "QZtvlOcdGC_H",
        "outputId": "6be0bc60-fd89-4d33-dfba-2a381a636e76"
      },
      "execution_count": null,
      "outputs": [
        {
          "output_type": "execute_result",
          "data": {
            "text/plain": [
              "['text_4.txt',\n",
              " 'text_11.txt',\n",
              " 'text_8.txt',\n",
              " 'text_13.txt',\n",
              " 'text_17.txt',\n",
              " 'text_12.txt',\n",
              " 'text_18.txt',\n",
              " 'text_0.txt',\n",
              " 'text_19.txt',\n",
              " 'text_5.txt',\n",
              " 'text_1.txt',\n",
              " 'text_14.txt',\n",
              " 'text_16.txt',\n",
              " 'text_7.txt',\n",
              " 'text_3.txt',\n",
              " 'text_2.txt',\n",
              " 'text_6.txt',\n",
              " 'text_9.txt',\n",
              " 'text_15.txt',\n",
              " 'text_10.txt']"
            ]
          },
          "metadata": {},
          "execution_count": 34
        }
      ]
    },
    {
      "cell_type": "code",
      "source": [
        "from tokenizers.trainers import BpeTrainer"
      ],
      "metadata": {
        "id": "MUAPrFdlGYwU"
      },
      "execution_count": null,
      "outputs": []
    },
    {
      "cell_type": "code",
      "source": [
        "trainer = BpeTrainer(special_tokens=[\"[UNK]\", \"[CLS]\", \"[SEP]\", \"[PAD]\", \"[MASK]\"])"
      ],
      "metadata": {
        "id": "hx2qZ9ShGbJh"
      },
      "execution_count": null,
      "outputs": []
    },
    {
      "cell_type": "code",
      "source": [
        "tokenizer.train(paths, trainer=trainer)"
      ],
      "metadata": {
        "id": "7xHlAeOeGdGe"
      },
      "execution_count": null,
      "outputs": []
    },
    {
      "cell_type": "code",
      "source": [
        "enc= tokenizer.encode('computação faculdade de computação FACOM Edson')"
      ],
      "metadata": {
        "id": "YWT2L4T6GfJV"
      },
      "execution_count": null,
      "outputs": []
    },
    {
      "cell_type": "code",
      "source": [
        "enc.tokens"
      ],
      "metadata": {
        "colab": {
          "base_uri": "https://localhost:8080/"
        },
        "id": "Wnv0qqGOGhXI",
        "outputId": "c8121283-cdbc-4875-fc1b-e5ac5e6eedc0"
      },
      "execution_count": null,
      "outputs": [
        {
          "output_type": "execute_result",
          "data": {
            "text/plain": [
              "['computação', 'faculdade', 'de', 'computação', 'FAC', 'OM', 'Ed', 'son']"
            ]
          },
          "metadata": {},
          "execution_count": 39
        }
      ]
    },
    {
      "cell_type": "code",
      "source": [],
      "metadata": {
        "id": "tw2qWREIGjU6"
      },
      "execution_count": null,
      "outputs": []
    },
    {
      "cell_type": "code",
      "source": [],
      "metadata": {
        "id": "qOaLurfzGmdL"
      },
      "execution_count": null,
      "outputs": []
    },
    {
      "cell_type": "code",
      "source": [],
      "metadata": {
        "id": "kV4K8dLSGmfq"
      },
      "execution_count": null,
      "outputs": []
    },
    {
      "cell_type": "code",
      "source": [],
      "metadata": {
        "id": "_sDEY8bNGmjB"
      },
      "execution_count": null,
      "outputs": []
    },
    {
      "cell_type": "markdown",
      "source": [
        "## WordPiece"
      ],
      "metadata": {
        "id": "nTdZ60-oGmuD"
      }
    },
    {
      "cell_type": "code",
      "source": [
        "!wget https://s3.amazonaws.com/models.huggingface.co/bert/bert-base-cased-vocab.txt"
      ],
      "metadata": {
        "colab": {
          "base_uri": "https://localhost:8080/"
        },
        "id": "Lg34k1LKGor7",
        "outputId": "513bbbb0-e7fe-4905-bce1-6f108434fbf4"
      },
      "execution_count": null,
      "outputs": [
        {
          "output_type": "stream",
          "name": "stdout",
          "text": [
            "--2023-03-01 21:36:08--  https://s3.amazonaws.com/models.huggingface.co/bert/bert-base-cased-vocab.txt\n",
            "Resolving s3.amazonaws.com (s3.amazonaws.com)... 52.217.171.232, 52.217.202.120, 52.217.115.120, ...\n",
            "Connecting to s3.amazonaws.com (s3.amazonaws.com)|52.217.171.232|:443... connected.\n",
            "HTTP request sent, awaiting response... 200 OK\n",
            "Length: 213450 (208K) [text/plain]\n",
            "Saving to: ‘bert-base-cased-vocab.txt’\n",
            "\n",
            "bert-base-cased-voc 100%[===================>] 208.45K  1.10MB/s    in 0.2s    \n",
            "\n",
            "2023-03-01 21:36:08 (1.10 MB/s) - ‘bert-base-cased-vocab.txt’ saved [213450/213450]\n",
            "\n"
          ]
        }
      ]
    },
    {
      "cell_type": "code",
      "source": [
        "from tokenizers import BertWordPieceTokenizer\n",
        "\n",
        "sequence = \"How are you Tokenizer 😁 ?\"\n",
        "tokenizerBW = BertWordPieceTokenizer(\"bert-base-cased-vocab.txt\")\n",
        "tokenized_sequenceBW = tokenizerBW.encode(sequence)\n",
        "print(tokenized_sequenceBW)\n",
        "print(type(tokenized_sequenceBW))\n",
        "print(tokenized_sequenceBW.ids)\n",
        "print(tokenized_sequenceBW.tokens)"
      ],
      "metadata": {
        "colab": {
          "base_uri": "https://localhost:8080/"
        },
        "id": "joj081WbGp5W",
        "outputId": "163a1ee2-c226-4c23-8d61-67e39bda6c99"
      },
      "execution_count": null,
      "outputs": [
        {
          "output_type": "stream",
          "name": "stdout",
          "text": [
            "Encoding(num_tokens=9, attributes=[ids, type_ids, tokens, offsets, attention_mask, special_tokens_mask, overflowing])\n",
            "<class 'tokenizers.Encoding'>\n",
            "[101, 1293, 1132, 1128, 22559, 17260, 100, 136, 102]\n",
            "['[CLS]', 'how', 'are', 'you', 'token', '##izer', '[UNK]', '?', '[SEP]']\n"
          ]
        }
      ]
    },
    {
      "cell_type": "code",
      "source": [
        "tokenized_sequenceBW = tokenizerBW.encode(\"surfboarded surf Surfing surfed\")\n",
        "print(tokenized_sequenceBW)\n",
        "print(type(tokenized_sequenceBW))\n",
        "print(tokenized_sequenceBW.ids)\n",
        "print(tokenized_sequenceBW.tokens)"
      ],
      "metadata": {
        "colab": {
          "base_uri": "https://localhost:8080/"
        },
        "id": "o7FGfK0eGsRf",
        "outputId": "af231526-9c22-4994-86cc-feaa11baf671"
      },
      "execution_count": null,
      "outputs": [
        {
          "output_type": "stream",
          "name": "stdout",
          "text": [
            "Encoding(num_tokens=9, attributes=[ids, type_ids, tokens, offsets, attention_mask, special_tokens_mask, overflowing])\n",
            "<class 'tokenizers.Encoding'>\n",
            "[101, 20114, 4015, 1174, 20114, 25502, 20114, 1174, 102]\n",
            "['[CLS]', 'surf', '##board', '##ed', 'surf', 'surfing', 'surf', '##ed', '[SEP]']\n"
          ]
        }
      ]
    },
    {
      "cell_type": "code",
      "source": [],
      "metadata": {
        "id": "XjZrVbN7GvJe"
      },
      "execution_count": null,
      "outputs": []
    }
  ]
}